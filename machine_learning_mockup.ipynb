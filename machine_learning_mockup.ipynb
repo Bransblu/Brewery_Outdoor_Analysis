{
  "cells": [
    {
      "cell_type": "code",
      "execution_count": 35,
      "id": "b76fee5c",
      "metadata": {
        "id": "b76fee5c"
      },
      "outputs": [],
      "source": [
        "# Import dependencies\n",
        "\n",
        "import pandas as pd\n",
        "from pathlib import Path\n",
        "import matplotlib.pyplot as plt\n",
        "from sklearn.linear_model import LinearRegression\n",
        "from sklearn.datasets import make_regression\n",
        "from sklearn.model_selection import train_test_split"
      ]
    },
    {
      "cell_type": "markdown",
      "source": [
        "# Test Linear Regression Model"
      ],
      "metadata": {
        "id": "8MxDL1B6Zbyu"
      },
      "id": "8MxDL1B6Zbyu"
    },
    {
      "cell_type": "code",
      "source": [
        "X, y = make_regression(n_samples=100, n_features=1, random_state=24, noise=20, bias=50.0)"
      ],
      "metadata": {
        "id": "AUF5PVy2mqko"
      },
      "id": "AUF5PVy2mqko",
      "execution_count": 27,
      "outputs": []
    },
    {
      "cell_type": "code",
      "source": [
        "plt.scatter(X, y)"
      ],
      "metadata": {
        "colab": {
          "base_uri": "https://localhost:8080/",
          "height": 282
        },
        "id": "Zogdb6aaxS-b",
        "outputId": "51ab9b51-79cc-4e2b-8dd9-e5e87877988e"
      },
      "id": "Zogdb6aaxS-b",
      "execution_count": 28,
      "outputs": [
        {
          "output_type": "execute_result",
          "data": {
            "text/plain": [
              "<matplotlib.collections.PathCollection at 0x7f2bf6518190>"
            ]
          },
          "metadata": {},
          "execution_count": 28
        },
        {
          "output_type": "display_data",
          "data": {
            "text/plain": [
              "<Figure size 432x288 with 1 Axes>"
            ],
            "image/png": "[encoded data removed]"
          },
          "metadata": {
            "needs_background": "light"
          }
        }
      ]
    },
    {
      "cell_type": "code",
      "source": [
        "model = LinearRegression()\n",
        "model"
      ],
      "metadata": {
        "colab": {
          "base_uri": "https://localhost:8080/"
        },
        "id": "Xf0jq-3aZrxV",
        "outputId": "ad25cd5f-a3fe-4e11-e31c-d1e8d86c8f6d"
      },
      "id": "Xf0jq-3aZrxV",
      "execution_count": 29,
      "outputs": [
        {
          "output_type": "execute_result",
          "data": {
            "text/plain": [
              "LinearRegression()"
            ]
          },
          "metadata": {},
          "execution_count": 29
        }
      ]
    },
    {
      "cell_type": "code",
      "source": [
        "model.fit(X, y)\n",
        "print(model)"
      ],
      "metadata": {
        "colab": {
          "base_uri": "https://localhost:8080/"
        },
        "id": "UwDFXZn0meyS",
        "outputId": "78750791-e9fd-4bbf-c1f0-16ff9eb4583b"
      },
      "id": "UwDFXZn0meyS",
      "execution_count": 30,
      "outputs": [
        {
          "output_type": "stream",
          "name": "stdout",
          "text": [
            "LinearRegression()\n"
          ]
        }
      ]
    },
    {
      "cell_type": "code",
      "source": [
        "print('Weight coefficients: ', model.coef_)\n",
        "print('y-axis intercept: ', model.intercept_) "
      ],
      "metadata": {
        "colab": {
          "base_uri": "https://localhost:8080/"
        },
        "id": "tFHbidegmfCN",
        "outputId": "8b802f02-9de7-48b3-84d7-cf65ccf962a5"
      },
      "id": "tFHbidegmfCN",
      "execution_count": 31,
      "outputs": [
        {
          "output_type": "stream",
          "name": "stdout",
          "text": [
            "Weight coefficients:  [73.68622249]\n",
            "y-axis intercept:  52.3505031996571\n"
          ]
        }
      ]
    },
    {
      "cell_type": "code",
      "source": [
        "predictions = model.predict(X)\n",
        "print(f\"True output: {y[0]}\")\n",
        "print(f\"Predicted output: {predictions[0]}\")\n",
        "print(f\"Prediction Error: {predictions[0]-y[0]}\")"
      ],
      "metadata": {
        "colab": {
          "base_uri": "https://localhost:8080/"
        },
        "id": "wds6OnlamfGI",
        "outputId": "e5658d27-0dc5-41d8-aa66-06e0de5f23e8"
      },
      "id": "wds6OnlamfGI",
      "execution_count": 32,
      "outputs": [
        {
          "output_type": "stream",
          "name": "stdout",
          "text": [
            "True output: 51.573180999075355\n",
            "Predicted output: 61.05269396989404\n",
            "Prediction Error: 9.479512970818682\n"
          ]
        }
      ]
    },
    {
      "cell_type": "code",
      "source": [
        "pd.DataFrame({\"Predicted\": predictions, \"Actual\": y, \"Error\": predictions - y})[[\"Predicted\", \"Actual\", \"Error\"]]"
      ],
      "metadata": {
        "colab": {
          "base_uri": "https://localhost:8080/",
          "height": 424
        },
        "id": "s9OxiJcwylKq",
        "outputId": "29ebfe08-6113-4110-ba2d-539eb7bd8e5a"
      },
      "id": "s9OxiJcwylKq",
      "execution_count": 33,
      "outputs": [
        {
          "output_type": "execute_result",
          "data": {
            "text/plain": [
              "     Predicted      Actual      Error\n",
              "0    61.052694   51.573181   9.479513\n",
              "1   116.539022  135.744467 -19.205445\n",
              "2   -45.354712  -34.665692 -10.689020\n",
              "3   -19.366764    6.805878 -26.172642\n",
              "4   120.974797  134.426874 -13.452077\n",
              "..         ...         ...        ...\n",
              "95  111.587291  106.903818   4.683473\n",
              "96   96.719525  118.261070 -21.541545\n",
              "97  191.563874  181.988316   9.575558\n",
              "98   21.512531    3.015834  18.496697\n",
              "99  -67.666142  -86.634482  18.968339\n",
              "\n",
              "[100 rows x 3 columns]"
            ],
            "text/html": [
              "\n",
              "  <div id=\"df-49d727f6-d2f4-4d08-92b7-994ac3cd80b4\">\n",
              "    <div class=\"colab-df-container\">\n",
              "      <div>\n",
              "<style scoped>\n",
              "    .dataframe tbody tr th:only-of-type {\n",
              "        vertical-align: middle;\n",
              "    }\n",
              "\n",
              "    .dataframe tbody tr th {\n",
              "        vertical-align: top;\n",
              "    }\n",
              "\n",
              "    .dataframe thead th {\n",
              "        text-align: right;\n",
              "    }\n",
              "</style>\n",
              "<table border=\"1\" class=\"dataframe\">\n",
              "  <thead>\n",
              "    <tr style=\"text-align: right;\">\n",
              "      <th></th>\n",
              "      <th>Predicted</th>\n",
              "      <th>Actual</th>\n",
              "      <th>Error</th>\n",
              "    </tr>\n",
              "  </thead>\n",
              "  <tbody>\n",
              "    <tr>\n",
              "      <th>0</th>\n",
              "      <td>61.052694</td>\n",
              "      <td>51.573181</td>\n",
              "      <td>9.479513</td>\n",
              "    </tr>\n",
              "    <tr>\n",
              "      <th>1</th>\n",
              "      <td>116.539022</td>\n",
              "      <td>135.744467</td>\n",
              "      <td>-19.205445</td>\n",
              "    </tr>\n",
              "    <tr>\n",
              "      <th>2</th>\n",
              "      <td>-45.354712</td>\n",
              "      <td>-34.665692</td>\n",
              "      <td>-10.689020</td>\n",
              "    </tr>\n",
              "    <tr>\n",
              "      <th>3</th>\n",
              "      <td>-19.366764</td>\n",
              "      <td>6.805878</td>\n",
              "      <td>-26.172642</td>\n",
              "    </tr>\n",
              "    <tr>\n",
              "      <th>4</th>\n",
              "      <td>120.974797</td>\n",
              "      <td>134.426874</td>\n",
              "      <td>-13.452077</td>\n",
              "    </tr>\n",
              "    <tr>\n",
              "      <th>...</th>\n",
              "      <td>...</td>\n",
              "      <td>...</td>\n",
              "      <td>...</td>\n",
              "    </tr>\n",
              "    <tr>\n",
              "      <th>95</th>\n",
              "      <td>111.587291</td>\n",
              "      <td>106.903818</td>\n",
              "      <td>4.683473</td>\n",
              "    </tr>\n",
              "    <tr>\n",
              "      <th>96</th>\n",
              "      <td>96.719525</td>\n",
              "      <td>118.261070</td>\n",
              "      <td>-21.541545</td>\n",
              "    </tr>\n",
              "    <tr>\n",
              "      <th>97</th>\n",
              "      <td>191.563874</td>\n",
              "      <td>181.988316</td>\n",
              "      <td>9.575558</td>\n",
              "    </tr>\n",
              "    <tr>\n",
              "      <th>98</th>\n",
              "      <td>21.512531</td>\n",
              "      <td>3.015834</td>\n",
              "      <td>18.496697</td>\n",
              "    </tr>\n",
              "    <tr>\n",
              "      <th>99</th>\n",
              "      <td>-67.666142</td>\n",
              "      <td>-86.634482</td>\n",
              "      <td>18.968339</td>\n",
              "    </tr>\n",
              "  </tbody>\n",
              "</table>\n",
              "<p>100 rows × 3 columns</p>\n",
              "</div>\n",
              "      <button class=\"colab-df-convert\" onclick=\"convertToInteractive('df-49d727f6-d2f4-4d08-92b7-994ac3cd80b4')\"\n",
              "              title=\"Convert this dataframe to an interactive table.\"\n",
              "              style=\"display:none;\">\n",
              "        \n",
              "  <svg xmlns=\"http://www.w3.org/2000/svg\" height=\"24px\"viewBox=\"0 0 24 24\"\n",
              "       width=\"24px\">\n",
              "    <path d=\"M0 0h24v24H0V0z\" fill=\"none\"/>\n",
              "    <path d=\"M18.56 5.44l.94 2.06.94-2.06 2.06-.94-2.06-.94-.94-2.06-.94 2.06-2.06.94zm-11 1L8.5 8.5l.94-2.06 2.06-.94-2.06-.94L8.5 2.5l-.94 2.06-2.06.94zm10 10l.94 2.06.94-2.06 2.06-.94-2.06-.94-.94-2.06-.94 2.06-2.06.94z\"/><path d=\"M17.41 7.96l-1.37-1.37c-.4-.4-.92-.59-1.43-.59-.52 0-1.04.2-1.43.59L10.3 9.45l-7.72 7.72c-.78.78-.78 2.05 0 2.83L4 21.41c.39.39.9.59 1.41.59.51 0 1.02-.2 1.41-.59l7.78-7.78 2.81-2.81c.8-.78.8-2.07 0-2.86zM5.41 20L4 18.59l7.72-7.72 1.47 1.35L5.41 20z\"/>\n",
              "  </svg>\n",
              "      </button>\n",
              "      \n",
              "  <style>\n",
              "    .colab-df-container {\n",
              "      display:flex;\n",
              "      flex-wrap:wrap;\n",
              "      gap: 12px;\n",
              "    }\n",
              "\n",
              "    .colab-df-convert {\n",
              "      background-color: #E8F0FE;\n",
              "      border: none;\n",
              "      border-radius: 50%;\n",
              "      cursor: pointer;\n",
              "      display: none;\n",
              "      fill: #1967D2;\n",
              "      height: 32px;\n",
              "      padding: 0 0 0 0;\n",
              "      width: 32px;\n",
              "    }\n",
              "\n",
              "    .colab-df-convert:hover {\n",
              "      background-color: #E2EBFA;\n",
              "      box-shadow: 0px 1px 2px rgba(60, 64, 67, 0.3), 0px 1px 3px 1px rgba(60, 64, 67, 0.15);\n",
              "      fill: #174EA6;\n",
              "    }\n",
              "\n",
              "    [theme=dark] .colab-df-convert {\n",
              "      background-color: #3B4455;\n",
              "      fill: #D2E3FC;\n",
              "    }\n",
              "\n",
              "    [theme=dark] .colab-df-convert:hover {\n",
              "      background-color: #434B5C;\n",
              "      box-shadow: 0px 1px 3px 1px rgba(0, 0, 0, 0.15);\n",
              "      filter: drop-shadow(0px 1px 2px rgba(0, 0, 0, 0.3));\n",
              "      fill: #FFFFFF;\n",
              "    }\n",
              "  </style>\n",
              "\n",
              "      <script>\n",
              "        const buttonEl =\n",
              "          document.querySelector('#df-49d727f6-d2f4-4d08-92b7-994ac3cd80b4 button.colab-df-convert');\n",
              "        buttonEl.style.display =\n",
              "          google.colab.kernel.accessAllowed ? 'block' : 'none';\n",
              "\n",
              "        async function convertToInteractive(key) {\n",
              "          const element = document.querySelector('#df-49d727f6-d2f4-4d08-92b7-994ac3cd80b4');\n",
              "          const dataTable =\n",
              "            await google.colab.kernel.invokeFunction('convertToInteractive',\n",
              "                                                     [key], {});\n",
              "          if (!dataTable) return;\n",
              "\n",
              "          const docLinkHtml = 'Like what you see? Visit the ' +\n",
              "            '<a target=\"_blank\" href=https://colab.research.google.com/notebooks/data_table.ipynb>data table notebook</a>'\n",
              "            + ' to learn more about interactive tables.';\n",
              "          element.innerHTML = '';\n",
              "          dataTable['output_type'] = 'display_data';\n",
              "          await google.colab.output.renderOutput(dataTable, element);\n",
              "          const docLink = document.createElement('div');\n",
              "          docLink.innerHTML = docLinkHtml;\n",
              "          element.appendChild(docLink);\n",
              "        }\n",
              "      </script>\n",
              "    </div>\n",
              "  </div>\n",
              "  "
            ]
          },
          "metadata": {},
          "execution_count": 33
        }
      ]
    },
    {
      "cell_type": "code",
      "source": [
        ""
      ],
      "metadata": {
        "id": "AejdPWhjyuD8"
      },
      "id": "AejdPWhjyuD8",
      "execution_count": null,
      "outputs": []
    },
    {
      "cell_type": "code",
      "source": [
        ""
      ],
      "metadata": {
        "id": "82jROeIdyuHI"
      },
      "id": "82jROeIdyuHI",
      "execution_count": null,
      "outputs": []
    },
    {
      "cell_type": "markdown",
      "id": "be134445",
      "metadata": {
        "id": "be134445"
      },
      "source": [
        "# Data Selection"
      ]
    },
    {
      "cell_type": "code",
      "execution_count": null,
      "id": "20d06293",
      "metadata": {
        "id": "20d06293"
      },
      "outputs": [],
      "source": [
        "file_path_brewery = Path(\"../Resources/brewery.csv\")\n",
        "file_path_income = Path(\"../Resources/income_data.csv\")"
      ]
    },
    {
      "cell_type": "code",
      "execution_count": null,
      "id": "d61abbb3",
      "metadata": {
        "id": "d61abbb3"
      },
      "outputs": [],
      "source": [
        "# Read CSV\n",
        "brewery_df = pd.read_csv(file_path_brewery)\n",
        "\n",
        "brewery_df.head()"
      ]
    },
    {
      "cell_type": "code",
      "execution_count": null,
      "id": "8c9461d0",
      "metadata": {
        "id": "8c9461d0"
      },
      "outputs": [],
      "source": [
        "# Read clothing CSV\n",
        "income_df = pd.read_csv(file_path_income)\n",
        "\n",
        "income_df.head()"
      ]
    },
    {
      "cell_type": "code",
      "execution_count": null,
      "id": "64e21612",
      "metadata": {
        "id": "64e21612"
      },
      "outputs": [],
      "source": [
        "# Remove not useful columns from dataframe"
      ]
    },
    {
      "cell_type": "code",
      "execution_count": null,
      "id": "a2e8d183",
      "metadata": {
        "id": "a2e8d183"
      },
      "outputs": [],
      "source": [
        "# Group dataframe based on number of breweries and location"
      ]
    },
    {
      "cell_type": "code",
      "execution_count": null,
      "id": "ec2fe383",
      "metadata": {
        "id": "ec2fe383"
      },
      "outputs": [],
      "source": [
        "# Merge dataframe with demographic infro dataframe grouped by location\n",
        "brewery_demo_df = brewery_df.merge(clothing_df, )"
      ]
    },
    {
      "cell_type": "markdown",
      "id": "24e04b58",
      "metadata": {
        "id": "24e04b58"
      },
      "source": [
        "# Data Processing"
      ]
    },
    {
      "cell_type": "code",
      "execution_count": null,
      "id": "ca26bf4a",
      "metadata": {
        "id": "ca26bf4a"
      },
      "outputs": [],
      "source": [
        "# Transform String Columns(Onehotencoder)"
      ]
    },
    {
      "cell_type": "code",
      "execution_count": null,
      "id": "8c829479",
      "metadata": {
        "id": "8c829479"
      },
      "outputs": [],
      "source": [
        "# Scale data if needed (StandardScaler)\n",
        "from sklearn.preprocessing import StandardScaler\n",
        "data_scaler = StandardScaler()"
      ]
    },
    {
      "cell_type": "code",
      "execution_count": null,
      "id": "fef37795",
      "metadata": {
        "id": "fef37795"
      },
      "outputs": [],
      "source": [
        "brewery_scaled = data_scaler.fit(encoded_df)\n",
        "\n",
        "brewery_scaled[:5]"
      ]
    },
    {
      "cell_type": "markdown",
      "id": "4fa0bb6f",
      "metadata": {
        "id": "4fa0bb6f"
      },
      "source": [
        "# Data Transformation"
      ]
    },
    {
      "cell_type": "code",
      "execution_count": null,
      "id": "f7d1e2b6",
      "metadata": {
        "id": "f7d1e2b6"
      },
      "outputs": [],
      "source": [
        "# Save Cleaned Data to csv"
      ]
    },
    {
      "cell_type": "code",
      "execution_count": null,
      "id": "16f3d3f3",
      "metadata": {
        "id": "16f3d3f3"
      },
      "outputs": [],
      "source": [
        "# Export cleaned data csv to sql table"
      ]
    },
    {
      "cell_type": "code",
      "execution_count": null,
      "id": "d6e6f5cf",
      "metadata": {
        "id": "d6e6f5cf"
      },
      "outputs": [],
      "source": [
        "# Set X and y \n",
        "# X = demographic info + number of Breweries per location(zipcode tabulation area?)\n",
        "# y = number of stores"
      ]
    },
    {
      "cell_type": "code",
      "execution_count": null,
      "id": "2fcda03b",
      "metadata": {
        "id": "2fcda03b"
      },
      "outputs": [],
      "source": [
        "# traintestsplit\n",
        "X_train, X_test, y_train, y_test = train_test_split(X, y, random_state=24)"
      ]
    },
    {
      "cell_type": "code",
      "execution_count": null,
      "id": "0bed1191",
      "metadata": {
        "id": "0bed1191"
      },
      "outputs": [],
      "source": [
        "# Create an instance of the model(LinearRegression)\n",
        "model = LinearRegression()"
      ]
    },
    {
      "cell_type": "code",
      "execution_count": null,
      "id": "435e9843",
      "metadata": {
        "id": "435e9843"
      },
      "outputs": [],
      "source": [
        "# Train the model with the dataset \n",
        "model.fit(X_train,y_train)"
      ]
    },
    {
      "cell_type": "code",
      "execution_count": null,
      "id": "a4590e9b",
      "metadata": {
        "id": "a4590e9b"
      },
      "outputs": [],
      "source": [
        "# Create predictions\n",
        "predictions = model.predict(X_test)\n",
        "\n",
        "print(predictions.shape)"
      ]
    },
    {
      "cell_type": "code",
      "execution_count": null,
      "id": "ac7817bd",
      "metadata": {
        "id": "ac7817bd"
      },
      "outputs": [],
      "source": [
        "# Validate the model\n",
        "# accuracy_score\n",
        "acc_score = accuracy_score(y_test, predictions)\n",
        "\n",
        "# confusion_matrix/classification_report\n",
        "cm = confusion_matrix(y_test, predictions)\n",
        "\n",
        "cm_df = pd.DataFrame(\n",
        "    cm, index=[\"Actual 0\", \"Actual 1\"], columns=[\"Predicted 0\", \"Predicted 1\"])"
      ]
    },
    {
      "cell_type": "code",
      "execution_count": null,
      "id": "71279c54",
      "metadata": {
        "id": "71279c54"
      },
      "outputs": [],
      "source": [
        "print(\"Confusion Matrix\")\n",
        "display(cm_df)\n",
        "print(f\"Accuracy Score : {acc_score}\")\n",
        "print(\"Classification Report\")\n",
        "print(classification_report(y_test, predictions))"
      ]
    },
    {
      "cell_type": "code",
      "execution_count": null,
      "id": "7ebcca02",
      "metadata": {
        "id": "7ebcca02"
      },
      "outputs": [],
      "source": [
        "# Find impact of different variables"
      ]
    }
  ],
  "metadata": {
    "kernelspec": {
      "display_name": "mlenv",
      "language": "python",
      "name": "mlenv"
    },
    "language_info": {
      "codemirror_mode": {
        "name": "ipython",
        "version": 3
      },
      "file_extension": ".py",
      "mimetype": "text/x-python",
      "name": "python",
      "nbconvert_exporter": "python",
      "pygments_lexer": "ipython3",
      "version": "3.7.13"
    },
    "colab": {
      "name": "machine_learning_mockup.ipynb",
      "provenance": [],
      "collapsed_sections": []
    }
  },
  "nbformat": 4,
  "nbformat_minor": 5
}