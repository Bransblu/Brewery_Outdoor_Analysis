{
 "cells": [
  {
   "cell_type": "code",
   "execution_count": null,
   "id": "b76fee5c",
   "metadata": {},
   "outputs": [],
   "source": [
    "# Import dependencies\n",
    "\n",
    "import pandas as pd\n",
    "from pathlib import Path\n",
    "import matplotlib.pyplot as plt\n",
    "from sklearn.linear_model import LinearRegression"
   ]
  },
  {
   "cell_type": "markdown",
   "id": "be134445",
   "metadata": {},
   "source": [
    "# Data Selection"
   ]
  },
  {
   "cell_type": "code",
   "execution_count": null,
   "id": "20d06293",
   "metadata": {},
   "outputs": [],
   "source": [
    "file_path_brewery = Path(\"../Resources/brewery.csv\")\n",
    "file_path_income = Path(\"../Resources/income_data.csv\")"
   ]
  },
  {
   "cell_type": "code",
   "execution_count": null,
   "id": "d61abbb3",
   "metadata": {},
   "outputs": [],
   "source": [
    "# Read CSV\n",
    "brewery_df = pd.read_csv(file_path_brewery)\n",
    "\n",
    "brewery_df.head()"
   ]
  },
  {
   "cell_type": "code",
   "execution_count": null,
   "id": "8c9461d0",
   "metadata": {},
   "outputs": [],
   "source": [
    "# Read clothing CSV\n",
    "income_df = pd.read_csv(file_path_income)\n",
    "\n",
    "income_df.head()"
   ]
  },
  {
   "cell_type": "code",
   "execution_count": null,
   "id": "64e21612",
   "metadata": {},
   "outputs": [],
   "source": [
    "# Remove not useful columns from dataframe"
   ]
  },
  {
   "cell_type": "code",
   "execution_count": null,
   "id": "a2e8d183",
   "metadata": {},
   "outputs": [],
   "source": [
    "# Group dataframe based on number of breweries and location"
   ]
  },
  {
   "cell_type": "code",
   "execution_count": null,
   "id": "ec2fe383",
   "metadata": {},
   "outputs": [],
   "source": [
    "# Merge dataframe with demographic infro dataframe grouped by location\n",
    "brewery_demo_df = brewery_df.merge(clothing_df, )"
   ]
  },
  {
   "cell_type": "markdown",
   "id": "24e04b58",
   "metadata": {},
   "source": [
    "# Data Processing"
   ]
  },
  {
   "cell_type": "code",
   "execution_count": null,
   "id": "ca26bf4a",
   "metadata": {},
   "outputs": [],
   "source": [
    "# Transform String Columns(Onehotencoder)"
   ]
  },
  {
   "cell_type": "code",
   "execution_count": null,
   "id": "8c829479",
   "metadata": {},
   "outputs": [],
   "source": [
    "# Scale data if needed (StandardScaler)\n",
    "from sklearn.preprocessing import StandardScaler\n",
    "data_scaler = StandardScaler()"
   ]
  },
  {
   "cell_type": "code",
   "execution_count": null,
   "id": "fef37795",
   "metadata": {},
   "outputs": [],
   "source": [
    "brewery_scaled = data_scaler.fit(encoded_df)\n",
    "\n",
    "brewery_scaled[:5]"
   ]
  },
  {
   "cell_type": "markdown",
   "id": "4fa0bb6f",
   "metadata": {},
   "source": [
    "# Data Transformation"
   ]
  },
  {
   "cell_type": "code",
   "execution_count": null,
   "id": "f7d1e2b6",
   "metadata": {},
   "outputs": [],
   "source": [
    "# Save Cleaned Data to csv"
   ]
  },
  {
   "cell_type": "code",
   "execution_count": null,
   "id": "16f3d3f3",
   "metadata": {},
   "outputs": [],
   "source": [
    "# Export cleaned data csv to sql table"
   ]
  },
  {
   "cell_type": "code",
   "execution_count": null,
   "id": "d6e6f5cf",
   "metadata": {},
   "outputs": [],
   "source": [
    "# Set X and y \n",
    "# X = demographic info + number of Breweries per location(zipcode tabulation area?)\n",
    "# y = number of stores"
   ]
  },
  {
   "cell_type": "code",
   "execution_count": null,
   "id": "2fcda03b",
   "metadata": {},
   "outputs": [],
   "source": [
    "# traintestsplit\n",
    "X_train, X_test, y_train, y_test = train_test_split(X, y, random_state=24)"
   ]
  },
  {
   "cell_type": "code",
   "execution_count": null,
   "id": "0bed1191",
   "metadata": {},
   "outputs": [],
   "source": [
    "# Create an instance of the model(LinearRegression)\n",
    "model = LinearRegression()"
   ]
  },
  {
   "cell_type": "code",
   "execution_count": null,
   "id": "435e9843",
   "metadata": {},
   "outputs": [],
   "source": [
    "# Train the model with the dataset \n",
    "model.fit(X_train,y_train)"
   ]
  },
  {
   "cell_type": "code",
   "execution_count": null,
   "id": "a4590e9b",
   "metadata": {},
   "outputs": [],
   "source": [
    "# Create predictions\n",
    "predictions = model.predict(X_test)\n",
    "\n",
    "print(predictions.shape)"
   ]
  },
  {
   "cell_type": "code",
   "execution_count": null,
   "id": "ac7817bd",
   "metadata": {},
   "outputs": [],
   "source": [
    "# Validate the model\n",
    "# accuracy_score\n",
    "acc_score = accuracy_score(y_test, predictions)\n",
    "\n",
    "# confusion_matrix/classification_report\n",
    "cm = confusion_matrix(y_test, predictions)\n",
    "\n",
    "cm_df = pd.DataFrame(\n",
    "    cm, index=[\"Actual 0\", \"Actual 1\"], columns=[\"Predicted 0\", \"Predicted 1\"])"
   ]
  },
  {
   "cell_type": "code",
   "execution_count": null,
   "id": "71279c54",
   "metadata": {},
   "outputs": [],
   "source": [
    "print(\"Confusion Matrix\")\n",
    "display(cm_df)\n",
    "print(f\"Accuracy Score : {acc_score}\")\n",
    "print(\"Classification Report\")\n",
    "print(classification_report(y_test, predictions))"
   ]
  },
  {
   "cell_type": "code",
   "execution_count": null,
   "id": "7ebcca02",
   "metadata": {},
   "outputs": [],
   "source": [
    "# Find impact of different variables"
   ]
  }
 ],
 "metadata": {
  "kernelspec": {
   "display_name": "mlenv",
   "language": "python",
   "name": "mlenv"
  },
  "language_info": {
   "codemirror_mode": {
    "name": "ipython",
    "version": 3
   },
   "file_extension": ".py",
   "mimetype": "text/x-python",
   "name": "python",
   "nbconvert_exporter": "python",
   "pygments_lexer": "ipython3",
   "version": "3.7.13"
  }
 },
 "nbformat": 4,
 "nbformat_minor": 5
}
